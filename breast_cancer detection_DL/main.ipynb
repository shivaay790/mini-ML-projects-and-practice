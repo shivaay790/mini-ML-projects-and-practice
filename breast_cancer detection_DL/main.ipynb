{
 "cells": [
  {
   "cell_type": "code",
   "execution_count": 32,
   "metadata": {},
   "outputs": [],
   "source": [
    "import tensorflow as tf\n",
    "from tensorflow.keras.preprocessing.image import ImageDataGenerator\n",
    "from tensorflow.keras.applications import ResNet50\n",
    "from tensorflow.keras.layers import Dense, GlobalAveragePooling2D, Dropout\n",
    "from tensorflow.keras.models import Model\n",
    "from tensorflow.keras.optimizers import Adam\n",
    "\n",
    "import math\n",
    "from tensorflow.keras.callbacks import ReduceLROnPlateau\n",
    "from keras.regularizers import L2"
   ]
  },
  {
   "cell_type": "code",
   "execution_count": null,
   "metadata": {},
   "outputs": [
    {
     "name": "stdout",
     "output_type": "stream",
     "text": [
      "Found 1400 images belonging to 2 classes.\n",
      "Found 80 images belonging to 2 classes.\n"
     ]
    }
   ],
   "source": [
    "\n",
    "train_dir = 'train'         # has subdirectories 'tumor' and 'normal'\n",
    "validation_dir = 'validation'\n",
    "\n",
    "# get image size and batch size\n",
    "img_height, img_width = 224, 224\n",
    "batch_size = 16\n",
    "\n",
    "# data augmentation for training\n",
    "train_datagen = ImageDataGenerator(\n",
    "    rescale=1./255,\n",
    "    rotation_range=20,\n",
    "    zoom_range=0.15,\n",
    "    width_shift_range=0.2,\n",
    "    height_shift_range=0.2,\n",
    "    horizontal_flip=True,\n",
    "    fill_mode=\"nearest\"\n",
    ")\n",
    "\n",
    "# only rescaling is used for validation\n",
    "validation_datagen = ImageDataGenerator(rescale=1./255)\n",
    "\n",
    "train_generator = train_datagen.flow_from_directory(\n",
    "    train_dir,\n",
    "    target_size=(img_height, img_width),\n",
    "    batch_size=batch_size,\n",
    "    class_mode='binary'\n",
    ")\n",
    "\n",
    "validation_generator = validation_datagen.flow_from_directory(\n",
    "    validation_dir,\n",
    "    target_size=(img_height, img_width),\n",
    "    batch_size=batch_size,\n",
    "    class_mode='binary'\n",
    ")"
   ]
  },
  {
   "cell_type": "code",
   "execution_count": null,
   "metadata": {},
   "outputs": [],
   "source": [
    "# Load the ResNet50 model pre-trained on ImageNet, without the top (classification) layers\n",
    "base_model = ResNet50(weights='imagenet', include_top=False, input_shape=(img_height, img_width, 3))\n",
    "\n",
    "# # freeze the layers of the base model\n",
    "# for layer in base_model.layers:\n",
    "#     layer.trainable = False\n",
    "\n",
    "\n",
    "# for layer in base_model.layers[-60:]:\n",
    "#     layer.trainable = True\n",
    "\n",
    "# Add a custom classification head on top of the base model\n",
    "x = base_model.output\n",
    "x = GlobalAveragePooling2D()(x)\n",
    "x = Dense(128, activation='relu', kernel_regularizer=L2(0.1))(x)\n",
    "x = Dropout(0.5)(x)\n",
    "predictions = Dense(1, activation='sigmoid')(x)  # binary classification\n",
    "\n",
    "# combine base model with new output layer\n",
    "model = Model(inputs=base_model.input, outputs=predictions)"
   ]
  },
  {
   "cell_type": "code",
   "execution_count": 35,
   "metadata": {},
   "outputs": [
    {
     "name": "stderr",
     "output_type": "stream",
     "text": [
      "c:\\Program Files\\Python310\\lib\\site-packages\\keras\\src\\trainers\\data_adapters\\py_dataset_adapter.py:121: UserWarning: Your `PyDataset` class should call `super().__init__(**kwargs)` in its constructor. `**kwargs` can include `workers`, `use_multiprocessing`, `max_queue_size`. Do not pass these arguments to `fit()`, as they will be ignored.\n",
      "  self._warn_if_super_not_called()\n"
     ]
    },
    {
     "name": "stdout",
     "output_type": "stream",
     "text": [
      "Epoch 1/5\n",
      "\u001b[1m175/175\u001b[0m \u001b[32m━━━━━━━━━━━━━━━━━━━━\u001b[0m\u001b[37m\u001b[0m \u001b[1m168s\u001b[0m 843ms/step - accuracy: 0.5566 - loss: 0.7895\n",
      "Epoch 2/5\n"
     ]
    },
    {
     "name": "stderr",
     "output_type": "stream",
     "text": [
      "c:\\Program Files\\Python310\\lib\\site-packages\\keras\\src\\trainers\\epoch_iterator.py:107: UserWarning: Your input ran out of data; interrupting training. Make sure that your dataset or generator can generate at least `steps_per_epoch * epochs` batches. You may need to use the `.repeat()` function when building your dataset.\n",
      "  self._interrupted_warning()\n"
     ]
    },
    {
     "name": "stdout",
     "output_type": "stream",
     "text": [
      "\u001b[1m175/175\u001b[0m \u001b[32m━━━━━━━━━━━━━━━━━━━━\u001b[0m\u001b[37m\u001b[0m \u001b[1m149s\u001b[0m 848ms/step - accuracy: 0.6667 - loss: 0.6250\n",
      "Epoch 3/5\n",
      "\u001b[1m175/175\u001b[0m \u001b[32m━━━━━━━━━━━━━━━━━━━━\u001b[0m\u001b[37m\u001b[0m \u001b[1m149s\u001b[0m 846ms/step - accuracy: 0.7693 - loss: 0.5297\n",
      "Epoch 4/5\n",
      "\u001b[1m175/175\u001b[0m \u001b[32m━━━━━━━━━━━━━━━━━━━━\u001b[0m\u001b[37m\u001b[0m \u001b[1m151s\u001b[0m 859ms/step - accuracy: 0.8258 - loss: 0.4407\n",
      "Epoch 5/5\n",
      "\u001b[1m175/175\u001b[0m \u001b[32m━━━━━━━━━━━━━━━━━━━━\u001b[0m\u001b[37m\u001b[0m \u001b[1m157s\u001b[0m 894ms/step - accuracy: 0.8901 - loss: 0.3372\n"
     ]
    },
    {
     "data": {
      "text/plain": [
       "<keras.src.callbacks.history.History at 0x287d27a0280>"
      ]
     },
     "execution_count": 35,
     "metadata": {},
     "output_type": "execute_result"
    }
   ],
   "source": [
    "# Compile the model with an appropriate learning rate and loss function for binary classification\n",
    "model.compile(optimizer=Adam(learning_rate=1e-5), loss='binary_crossentropy', metrics=['accuracy'])\n",
    "\n",
    "# Train the model (with the base frozen) for initial epochs\n",
    "initial_epochs = 5\n",
    "\n",
    "model.fit(\n",
    "    train_generator,\n",
    "    steps_per_epoch=math.ceil(train_generator.samples / 8), # 8, 16(works better), 32(as good as 8)\n",
    "    epochs=initial_epochs\n",
    ")"
   ]
  },
  {
   "cell_type": "code",
   "execution_count": 36,
   "metadata": {},
   "outputs": [],
   "source": [
    "# Fine-tune the model for additional epochs\n",
    "\n",
    "# Unfreeze the last few layers of the base model for fine-tuning\n",
    "# for layer in base_model.layers[-1:]:   # here we unfreez & train only the last 10 layers so that we dont overfit \n",
    "#     layer.trainable = True\n",
    "\n",
    "# Recompile with a lower learning rate for fine-tuning\n",
    "# model.compile(optimizer=Adam(learning_rate=1e-6), loss='binary_crossentropy', metrics=['accuracy'])\n",
    "\n",
    "# fine_tune_epochs = 50\n",
    "# total_epochs = initial_epochs + fine_tune_epochs\n",
    "\n",
    "# model.fit(\n",
    "#     train_generator,\n",
    "#     validation_steps=math.ceil(validation_generator.samples / 8),\n",
    "#     epochs=total_epochs,\n",
    "#     initial_epoch=initial_epochs\n",
    "# )"
   ]
  },
  {
   "cell_type": "code",
   "execution_count": null,
   "metadata": {},
   "outputs": [],
   "source": [
    "# Save the fine-tuned model\n",
    "model.save('tumor_detection_model7.keras')\n",
    "\n",
    "# after a lot of fine tuning i found that model 2 has the best results, 86.25% is not something that we would put in practice but given the limited amount of data for\n",
    "# training our model it is a good performance"
   ]
  },
  {
   "cell_type": "code",
   "execution_count": null,
   "metadata": {},
   "outputs": [
    {
     "name": "stdout",
     "output_type": "stream",
     "text": [
      "Found 80 images belonging to 2 classes.\n"
     ]
    },
    {
     "name": "stderr",
     "output_type": "stream",
     "text": [
      "c:\\Program Files\\Python310\\lib\\site-packages\\keras\\src\\trainers\\data_adapters\\py_dataset_adapter.py:121: UserWarning: Your `PyDataset` class should call `super().__init__(**kwargs)` in its constructor. `**kwargs` can include `workers`, `use_multiprocessing`, `max_queue_size`. Do not pass these arguments to `fit()`, as they will be ignored.\n",
      "  self._warn_if_super_not_called()\n"
     ]
    },
    {
     "name": "stdout",
     "output_type": "stream",
     "text": [
      "\u001b[1m5/5\u001b[0m \u001b[32m━━━━━━━━━━━━━━━━━━━━\u001b[0m\u001b[37m\u001b[0m \u001b[1m3s\u001b[0m 323ms/step\n",
      "Predictions completed successfully!\n"
     ]
    }
   ],
   "source": [
    "from tensorflow.keras.models import load_model\n",
    "model = load_model(\"tumor_detection_model2.keras\")\n",
    "                   \n",
    "from tensorflow.keras.preprocessing.image import ImageDataGenerator\n",
    "\n",
    "test_datagen = ImageDataGenerator(rescale=1.0/255.0)  # normalize pixel values\n",
    "test_generator = test_datagen.flow_from_directory(\n",
    "    \"validation\",\n",
    "    target_size=(224,224),\n",
    "    batch_size=16,\n",
    "    class_mode='binary',  \n",
    "    shuffle=False  \n",
    ")\n",
    "\n",
    "# Predict on test data\n",
    "y_pred_prob = model.predict(test_generator)\n",
    "# Convert probabilities to binary labels (0 or 1)\n",
    "y_pred = (y_pred_prob > 0.5).astype(int)\n",
    "print(\"Predictions completed successfully!\")\n"
   ]
  },
  {
   "cell_type": "code",
   "execution_count": 2,
   "metadata": {},
   "outputs": [
    {
     "name": "stdout",
     "output_type": "stream",
     "text": [
      "Test Accuracy: 86.25%\n",
      "              precision    recall  f1-score   support\n",
      "\n",
      "     Healthy       0.94      0.78      0.85        40\n",
      "        Sick       0.81      0.95      0.87        40\n",
      "\n",
      "    accuracy                           0.86        80\n",
      "   macro avg       0.87      0.86      0.86        80\n",
      "weighted avg       0.87      0.86      0.86        80\n",
      "\n"
     ]
    },
    {
     "data": {
      "image/png": "[encoded data removed]",
      "text/plain": [
       "<Figure size 640x480 with 2 Axes>"
      ]
     },
     "metadata": {},
     "output_type": "display_data"
    }
   ],
   "source": [
    "from sklearn.metrics import accuracy_score, classification_report, confusion_matrix\n",
    "import numpy as np\n",
    "import seaborn as sns\n",
    "import matplotlib.pyplot as plt\n",
    "\n",
    "# True labels (from directory structure)\n",
    "y_true = test_generator.classes  \n",
    "\n",
    "# Compute accuracy\n",
    "accuracy = accuracy_score(y_true, y_pred)\n",
    "print(f\"Test Accuracy: {accuracy * 100:.2f}%\")\n",
    "\n",
    "# Classification report\n",
    "print(classification_report(y_true, y_pred, target_names=test_generator.class_indices.keys()))\n",
    "\n",
    "# Confusion matrix\n",
    "cm = confusion_matrix(y_true, y_pred)\n",
    "sns.heatmap(cm, annot=True, fmt=\"d\", cmap=\"Blues\", xticklabels=[\"Healthy\", \"Unhealthy\"], yticklabels=[\"Healthy\", \"Unhealthy\"])\n",
    "plt.xlabel(\"Predicted\")\n",
    "plt.ylabel(\"Actual\")\n",
    "plt.title(\"Confusion Matrix\")\n",
    "plt.show()"
   ]
  },
  {
   "cell_type": "code",
   "execution_count": 40,
   "metadata": {},
   "outputs": [
    {
     "data": {
      "text/plain": [
       "'\\nhere we fit the model 2 times:\\n\\n1) transfer learning phase: here we train only the new added layers(in our case it was the output layer) so that it can get a feel of the weights &\\nfeatures of the previous layer. This is good as the weights are good & helps it build a solid foundation, reducing overfitting.\\n\\n2) fine tuning: here u unfreeze some of the prev weights and fine tune the weights(with a very low learning rate, large LR can destroy the pretrained features)\\n\\nwe use u nets when want an outline. Here we just need to detect the tumor so classification is good enough, but if they want to know the region as \\nwell then we would need u nets for that\\n\\n'"
      ]
     },
     "execution_count": 40,
     "metadata": {},
     "output_type": "execute_result"
    }
   ],
   "source": [
    "\"\"\"\n",
    "here we fit the model 2 times:\n",
    "\n",
    "1) transfer learning phase: here we train only the new added layers(in our case it was the output layer) so that it can get a feel of the weights &\n",
    "features of the previous layer. This is good as the weights are good & helps it build a solid foundation, reducing overfitting.\n",
    "\n",
    "2) fine tuning: here u unfreeze some of the prev weights and fine tune the weights(with a very low learning rate, large LR can destroy the pretrained features)\n",
    "\n",
    "we use u nets when want an outline. Here we just need to detect the tumor so classification is good enough, but if they want to know the region as \n",
    "well then we would need u nets for that\n",
    "\n",
    "\"\"\""
   ]
  },
  {
   "cell_type": "code",
   "execution_count": null,
   "metadata": {},
   "outputs": [],
   "source": [
    "# 1) ResNet 50\n",
    "# model 1: LR = 1e-4, 5 epchos => 0.9362 & 0.9062 train & validation\n",
    "# model 2: LR = 1e-5, 5 epchos 0.93 & 0.9 train & validation\n",
    "# model 3: LR = 1e-5, 10 epchos =>  &  train & validation\n",
    "\n",
    "# 2) \n"
   ]
  },
  {
   "cell_type": "code",
   "execution_count": null,
   "metadata": {},
   "outputs": [],
   "source": []
  },
  {
   "cell_type": "code",
   "execution_count": 42,
   "metadata": {},
   "outputs": [
    {
     "data": {
      "text/plain": [
       "'\\n1. Medical Imaging & Histopathology\\nU-Net and Variants:\\n\\nU-Net, U-Net++, Attention U-Net\\nUse Case: Primarily for segmentation tasks such as tumor delineation, organ segmentation, or identifying regions of interest in histopathology slides.\\nCNN Architectures:\\n\\nResNet, DenseNet, EfficientNet, Inception\\nUse Case: Classification tasks such as detecting tumors in radiology images (e.g., CT scans, MRIs) or classifying cellular images.\\nNuance: Often, these models are fine-tuned on domain-specific data after being pretrained on large datasets like ImageNet.\\n2. Protein Structure Prediction & Molecular Biology\\nAlphaFold (AlphaFold2):\\n\\nDeveloped by: DeepMind\\nUse Case: Predicting protein 3D structures with remarkable accuracy—a breakthrough in structural biology.\\nRoseTTAFold:\\n\\nDeveloped by: The Baker Lab\\nUse Case: Also used for protein structure prediction, providing an alternative approach with competitive performance.\\n3. Genomics & Transcriptomics\\nTransformer-based Models:\\n\\nExamples: DNABERT, Enformer\\nUse Case: Modeling genomic sequences, predicting gene expression patterns, or interpreting non-coding regions.\\nNuance: These models adapt the transformer architecture (originally designed for language tasks) to handle the sequential nature and complexity of DNA/RNA data.\\nGraph Neural Networks (GNNs):\\n\\nUse Case: Analyzing biological networks such as gene regulatory networks, protein-protein interaction networks, or cell-cell communication in tissues.\\n4. Drug Discovery & Chemical Biology\\nMolecular Transformers:\\n\\nUse Case: Predicting chemical reactions, molecular properties, or optimizing compounds.\\nNuance: These models adapt techniques from NLP to understand and generate chemical structures represented as strings (e.g., SMILES).\\nDeepChem Models:\\n\\nLibrary: DeepChem\\nUse Case: Provides a suite of deep learning models tailored for predicting molecular properties, virtual screening, and more.\\n5. Single-Cell Analysis\\nVariational Autoencoders (VAEs):\\n\\nExample: scVI (Single-cell Variational Inference)\\nUse Case: Dimensionality reduction, clustering, and denoising of single-cell RNA-sequencing data.\\nGraph-based Approaches:\\n\\nUse Case: Modeling cell-cell interactions and networks, which can be crucial for understanding tissue heterogeneity and disease microenvironments.\\nKey Considerations When Choosing a Model\\nTask Specificity:\\nUnderstand if your task is classification, segmentation, prediction, or sequence analysis. Each task benefits from different architectures.\\n\\nData Availability & Quality:\\n\\nFor imaging tasks, the resolution and annotation quality of images can dictate whether a segmentation model (like U-Net) or a classification CNN (like ResNet) is more appropriate.\\nFor sequence data, the availability of labeled sequences and the inherent noise in biological data are critical.\\nComputational Resources:\\nSome state-of-the-art models (e.g., AlphaFold2 or large transformers) are very resource-intensive and may require specialized hardware.\\n\\nTransfer Learning & Fine-Tuning:\\nMany models are first pretrained on large, general datasets (e.g., ImageNet for CNNs, or massive protein databases) and then fine-tuned on the specific biological dataset. Deciding how many layers to fine-tune is often empirical and depends on how similar your data is to the pretraining data.\\n\\nInterpretability & Regulatory Concerns:\\nEspecially in healthcare, model interpretability and compliance with regulatory standards are essential. Sometimes simpler models with transparent decision-making processes are preferred.\\n\\n\\n\\n'"
      ]
     },
     "execution_count": 42,
     "metadata": {},
     "output_type": "execute_result"
    }
   ],
   "source": [
    "\"\"\"\n",
    "1. Medical Imaging & Histopathology\n",
    "U-Net and Variants:\n",
    "\n",
    "U-Net, U-Net++, Attention U-Net\n",
    "Use Case: Primarily for segmentation tasks such as tumor delineation, organ segmentation, or identifying regions of interest in histopathology slides.\n",
    "CNN Architectures:\n",
    "\n",
    "ResNet, DenseNet, EfficientNet, Inception\n",
    "Use Case: Classification tasks such as detecting tumors in radiology images (e.g., CT scans, MRIs) or classifying cellular images.\n",
    "Nuance: Often, these models are fine-tuned on domain-specific data after being pretrained on large datasets like ImageNet.\n",
    "2. Protein Structure Prediction & Molecular Biology\n",
    "AlphaFold (AlphaFold2):\n",
    "\n",
    "Developed by: DeepMind\n",
    "Use Case: Predicting protein 3D structures with remarkable accuracy—a breakthrough in structural biology.\n",
    "RoseTTAFold:\n",
    "\n",
    "Developed by: The Baker Lab\n",
    "Use Case: Also used for protein structure prediction, providing an alternative approach with competitive performance.\n",
    "3. Genomics & Transcriptomics\n",
    "Transformer-based Models:\n",
    "\n",
    "Examples: DNABERT, Enformer\n",
    "Use Case: Modeling genomic sequences, predicting gene expression patterns, or interpreting non-coding regions.\n",
    "Nuance: These models adapt the transformer architecture (originally designed for language tasks) to handle the sequential nature and complexity of DNA/RNA data.\n",
    "Graph Neural Networks (GNNs):\n",
    "\n",
    "Use Case: Analyzing biological networks such as gene regulatory networks, protein-protein interaction networks, or cell-cell communication in tissues.\n",
    "4. Drug Discovery & Chemical Biology\n",
    "Molecular Transformers:\n",
    "\n",
    "Use Case: Predicting chemical reactions, molecular properties, or optimizing compounds.\n",
    "Nuance: These models adapt techniques from NLP to understand and generate chemical structures represented as strings (e.g., SMILES).\n",
    "DeepChem Models:\n",
    "\n",
    "Library: DeepChem\n",
    "Use Case: Provides a suite of deep learning models tailored for predicting molecular properties, virtual screening, and more.\n",
    "5. Single-Cell Analysis\n",
    "Variational Autoencoders (VAEs):\n",
    "\n",
    "Example: scVI (Single-cell Variational Inference)\n",
    "Use Case: Dimensionality reduction, clustering, and denoising of single-cell RNA-sequencing data.\n",
    "Graph-based Approaches:\n",
    "\n",
    "Use Case: Modeling cell-cell interactions and networks, which can be crucial for understanding tissue heterogeneity and disease microenvironments.\n",
    "Key Considerations When Choosing a Model\n",
    "Task Specificity:\n",
    "Understand if your task is classification, segmentation, prediction, or sequence analysis. Each task benefits from different architectures.\n",
    "\n",
    "Data Availability & Quality:\n",
    "\n",
    "For imaging tasks, the resolution and annotation quality of images can dictate whether a segmentation model (like U-Net) or a classification CNN (like ResNet) is more appropriate.\n",
    "For sequence data, the availability of labeled sequences and the inherent noise in biological data are critical.\n",
    "Computational Resources:\n",
    "Some state-of-the-art models (e.g., AlphaFold2 or large transformers) are very resource-intensive and may require specialized hardware.\n",
    "\n",
    "Transfer Learning & Fine-Tuning:\n",
    "Many models are first pretrained on large, general datasets (e.g., ImageNet for CNNs, or massive protein databases) and then fine-tuned on the specific biological dataset. Deciding how many layers to fine-tune is often empirical and depends on how similar your data is to the pretraining data.\n",
    "\n",
    "Interpretability & Regulatory Concerns:\n",
    "Especially in healthcare, model interpretability and compliance with regulatory standards are essential. Sometimes simpler models with transparent decision-making processes are preferred.\n",
    "\n",
    "\n",
    "\n",
    "\"\"\""
   ]
  }
 ],
 "metadata": {
  "kernelspec": {
   "display_name": "Python 3",
   "language": "python",
   "name": "python3"
  },
  "language_info": {
   "codemirror_mode": {
    "name": "ipython",
    "version": 3
   },
   "file_extension": ".py",
   "mimetype": "text/x-python",
   "name": "python",
   "nbconvert_exporter": "python",
   "pygments_lexer": "ipython3",
   "version": "3.10.0"
  }
 },
 "nbformat": 4,
 "nbformat_minor": 2
}
